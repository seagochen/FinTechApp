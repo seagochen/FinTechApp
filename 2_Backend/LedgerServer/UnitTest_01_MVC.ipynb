{
 "cells": [
  {
   "cell_type": "markdown",
   "source": [
    "# 0. Import necessary libraries"
   ],
   "metadata": {
    "collapsed": false
   },
   "id": "1142d1cf5d1b84dd"
  },
  {
   "cell_type": "code",
   "outputs": [],
   "source": [
    "# import os\n",
    "import os\n",
    "\n",
    "# import libraries\n",
    "import app.utility.DownloadSqlScript as db_utils \n",
    "import app.models.ModelFactory as factory\n",
    "import app.models.Controller as controller"
   ],
   "metadata": {
    "collapsed": false,
    "ExecuteTime": {
     "end_time": "2024-01-31T07:27:58.489365100Z",
     "start_time": "2024-01-31T07:27:58.180429300Z"
    }
   },
   "id": "5a54613c84ee28b7",
   "execution_count": 1
  },
  {
   "cell_type": "markdown",
   "source": [
    "# 1. Download and create database"
   ],
   "metadata": {
    "collapsed": false
   },
   "id": "ed58117568787502"
  },
  {
   "cell_type": "code",
   "outputs": [
    {
     "name": "stdout",
     "output_type": "stream",
     "text": [
      "Executing script create_table.sql...\n",
      "Completed successfully!\n",
      "Executing script update_view.sql...\n",
      "Completed successfully!\n"
     ]
    }
   ],
   "source": [
    "# Download the creation script from GitHub\n",
    "db_utils.download_file(db_utils.GITHUB_CREATION_URL, filename=\"create_table.sql\")\n",
    "\n",
    "# Download another sql script from GitHub\n",
    "db_utils.download_file(db_utils.GITHUB_UPDATEVIEW_URL, filename=\"update_view.sql\")\n",
    "\n",
    "# Check if the database file exists\n",
    "if os.path.exists(db_utils.DATABASE_NAME):\n",
    "    os.remove(db_utils.DATABASE_NAME)\n",
    "    \n",
    "# Create the database\n",
    "db_utils.execute_script(\"create_table.sql\", database=db_utils.DATABASE_NAME)\n",
    "    \n",
    "# Execute the sql script\n",
    "db_utils.execute_script(\"update_view.sql\", database=db_utils.DATABASE_NAME)\n",
    "    \n",
    "# Delete unnecessary files from disk when database has been created\n",
    "if os.path.exists(db_utils.DATABASE_NAME):\n",
    "    os.remove(\"create_table.sql\")\n",
    "    os.remove(\"update_view.sql\")"
   ],
   "metadata": {
    "collapsed": false,
    "ExecuteTime": {
     "end_time": "2024-01-31T07:27:59.712876500Z",
     "start_time": "2024-01-31T07:27:58.496763600Z"
    }
   },
   "id": "e1d3b1a875cb8301",
   "execution_count": 2
  },
  {
   "cell_type": "markdown",
   "source": [
    "# 2. CRUD operations check"
   ],
   "metadata": {
    "collapsed": false
   },
   "id": "616b5411c273d226"
  },
  {
   "cell_type": "markdown",
   "source": [
    "## 2.1. Use factory to create the model"
   ],
   "metadata": {
    "collapsed": false
   },
   "id": "d59c15dfbe83f048"
  },
  {
   "cell_type": "code",
   "outputs": [],
   "source": [
    "# import models\n",
    "from app.models.AccountsModel import AccountsModel\n",
    "\n",
    "model = factory.get_model('Accounts', db_utils.DATABASE_NAME)"
   ],
   "metadata": {
    "collapsed": false,
    "ExecuteTime": {
     "end_time": "2024-01-31T07:27:59.713378800Z",
     "start_time": "2024-01-31T07:27:59.708133400Z"
    }
   },
   "id": "c42bc5eac5f7dd20",
   "execution_count": 3
  },
  {
   "cell_type": "markdown",
   "source": [
    "## 2.2. CRUD test"
   ],
   "metadata": {
    "collapsed": false
   },
   "id": "926ebde42b061b4d"
  },
  {
   "cell_type": "code",
   "outputs": [
    {
     "name": "stdout",
     "output_type": "stream",
     "text": [
      "[('X1234', 'S1234', 'Test', 'development', '<PASSWORD>', 'R1234', 'Note 1234')]\n"
     ]
    }
   ],
   "source": [
    "# 1. Add a new entity to the database\n",
    "new_model = AccountsModel(account_id='X1234',\n",
    "                          service_provider_id='S1234',\n",
    "                          account_name='Test',\n",
    "                          account_type_id='development',\n",
    "                          account_password='<PASSWORD>',\n",
    "                          restriction_id='R1234',\n",
    "                          note='Note 1234')\n",
    "controller.add(new_model)\n",
    "print(controller.get_all(model))"
   ],
   "metadata": {
    "collapsed": false,
    "ExecuteTime": {
     "end_time": "2024-01-31T07:27:59.785610200Z",
     "start_time": "2024-01-31T07:27:59.716410700Z"
    }
   },
   "id": "ebd7582d4e98ae4",
   "execution_count": 4
  },
  {
   "cell_type": "code",
   "outputs": [
    {
     "name": "stdout",
     "output_type": "stream",
     "text": [
      "[('X1234', 'S1234', 'Updated_Content', 'development', '<PASSWORD>', 'R1234', 'Updated Note')]\n"
     ]
    }
   ],
   "source": [
    "# 2. Update the entity\n",
    "new_model.account_name = \"Updated_Content\"\n",
    "new_model.note = \"Updated Note\"\n",
    "controller.update(new_model)\n",
    "print(controller.get_all(model))"
   ],
   "metadata": {
    "collapsed": false,
    "ExecuteTime": {
     "end_time": "2024-01-31T07:27:59.787110800Z",
     "start_time": "2024-01-31T07:27:59.729089900Z"
    }
   },
   "id": "a8c4297697433066",
   "execution_count": 5
  },
  {
   "cell_type": "code",
   "outputs": [
    {
     "name": "stdout",
     "output_type": "stream",
     "text": [
      "[('X1234', 'S1234', 'Updated_Content', 'development', '<PASSWORD>', 'R1234', 'Updated Note')]\n"
     ]
    }
   ],
   "source": [
    "# 3. Search the entity\n",
    "new_model = AccountsModel(account_id='X1234')\n",
    "print(controller.get(new_model))"
   ],
   "metadata": {
    "collapsed": false,
    "ExecuteTime": {
     "end_time": "2024-01-31T07:27:59.788604700Z",
     "start_time": "2024-01-31T07:27:59.742033Z"
    }
   },
   "id": "f264d3bc98005bc4",
   "execution_count": 6
  },
  {
   "cell_type": "code",
   "outputs": [
    {
     "name": "stdout",
     "output_type": "stream",
     "text": [
      "[]\n"
     ]
    }
   ],
   "source": [
    "# 4. Delete the entity\n",
    "controller.delete(new_model)\n",
    "print(controller.get_all(model))"
   ],
   "metadata": {
    "collapsed": false,
    "ExecuteTime": {
     "end_time": "2024-01-31T07:27:59.789641200Z",
     "start_time": "2024-01-31T07:27:59.751889100Z"
    }
   },
   "id": "7a9f6747389be576",
   "execution_count": 7
  },
  {
   "cell_type": "code",
   "outputs": [],
   "source": [
    "new_model.close()\n",
    "new_model = None"
   ],
   "metadata": {
    "collapsed": false,
    "ExecuteTime": {
     "end_time": "2024-01-31T07:27:59.841231Z",
     "start_time": "2024-01-31T07:27:59.761450200Z"
    }
   },
   "id": "ec4ab057d5a48dd7",
   "execution_count": 8
  },
  {
   "cell_type": "markdown",
   "source": [
    "## 2.3. Existing Models Correctness Validation"
   ],
   "metadata": {
    "collapsed": false
   },
   "id": "a99a8993bf28eebc"
  },
  {
   "cell_type": "code",
   "outputs": [
    {
     "name": "stdout",
     "output_type": "stream",
     "text": [
      "[]\n",
      "[]\n",
      "[]\n",
      "[]\n",
      "[]\n"
     ]
    }
   ],
   "source": [
    "model = factory.get_model('Accounts', db_utils.DATABASE_NAME)\n",
    "print(controller.get_all(model))\n",
    "\n",
    "mode = factory.get_model('AccountsView', db_utils.DATABASE_NAME)\n",
    "print(controller.get_all(model))\n",
    "\n",
    "model = factory.get_model('AccountType', db_utils.DATABASE_NAME)\n",
    "print(controller.get_all(model))\n",
    "\n",
    "model = factory.get_model('ServiceProvider', db_utils.DATABASE_NAME)\n",
    "print(controller.get_all(model))\n",
    "\n",
    "model = factory.get_model('Restriction', db_utils.DATABASE_NAME)\n",
    "print(controller.get_all(model))"
   ],
   "metadata": {
    "collapsed": false,
    "ExecuteTime": {
     "end_time": "2024-01-31T07:27:59.842234600Z",
     "start_time": "2024-01-31T07:27:59.770853700Z"
    }
   },
   "id": "62986564d46700b1",
   "execution_count": 9
  },
  {
   "cell_type": "code",
   "outputs": [],
   "source": [
    "model.close()\n",
    "mode = None"
   ],
   "metadata": {
    "collapsed": false,
    "ExecuteTime": {
     "end_time": "2024-01-31T07:27:59.843236900Z",
     "start_time": "2024-01-31T07:27:59.784110800Z"
    }
   },
   "id": "3226afc958916b31",
   "execution_count": 10
  }
 ],
 "metadata": {
  "kernelspec": {
   "display_name": "Python 3",
   "language": "python",
   "name": "python3"
  },
  "language_info": {
   "codemirror_mode": {
    "name": "ipython",
    "version": 2
   },
   "file_extension": ".py",
   "mimetype": "text/x-python",
   "name": "python",
   "nbconvert_exporter": "python",
   "pygments_lexer": "ipython2",
   "version": "2.7.6"
  }
 },
 "nbformat": 4,
 "nbformat_minor": 5
}
