{
 "cells": [
  {
   "cell_type": "markdown",
   "metadata": {},
   "source": [
    "# Requesting Account Summary\n",
    "\n",
    "请求特定账户的概要。此方法将订阅如 TWS 的账户概要选项卡中所呈现的账户概要。客户可以通过使用特定的标签值来指定接收的数据。有关可用选项，请参阅账户概要标签部分。\n",
    "\n",
    "或者，许多语言提供了导入 AccountSummaryTags 的方法，以检索所有标签值。\n",
    "\n",
    "EClient.reqAccountSummary\n",
    "* reqId: int。唯一的请求标识符。\n",
    "* group: String。设置为“All”以返回所有账户的账户概要数据，或设置为在 TWS 全局配置中已创建的特定顾问账户组名称。\n",
    "* tags: String。所需标签的逗号分隔列表\n",
    "\n",
    "重要提示：同时只允许有两个活跃的概要订阅！\n",
    "\n",
    "```python\n",
    "EClient.reqAccountSummary(9001, \"All\", AccountSummaryTags.AllTags)\n",
    "```"
   ]
  },
  {
   "cell_type": "markdown",
   "metadata": {
    "collapsed": false,
    "pycharm": {
     "name": "#%% md\n"
    }
   },
   "source": [
    "## Account Summary Tags\n",
    "\n",
    "| Tag | Description |\n",
    "| --- | --- |\n",
    "| AccountType | 账户类型 |\n",
    "| NetLiquidation | 净清算价值 |\n",
    "| TotalCashValue | 总现金价值 |\n",
    "| SettledCash | 已结算现金 |\n",
    "| AccruedCash | 应计现金 |\n",
    "| BuyingPower | 购买力 |\n",
    "| EquityWithLoanValue | 贷款价值 |\n",
    "| PreviousEquityWithLoanValue | 上一次贷款价值 |\n",
    "| GrossPositionValue | 总持仓价值 |\n",
    "| ReqTEquity | 请求的总权益 |\n",
    "| ReqTMargin | 请求的总保证金 |\n",
    "| SMA | 特殊保证金账户 |\n",
    "| InitMarginReq | 初始保证金要求 |\n",
    "| MaintMarginReq | 维持保证金要求 |\n",
    "| AvailableFunds | 可用资金 |\n",
    "| ExcessLiquidity | 超额流动性 |\n",
    "| Cushion | 缓冲 |\n",
    "| FullInitMarginReq | 完整的初始保证金要求 |\n",
    "| FullMaintMarginReq | 完整的维持保证金要求 |\n",
    "| FullAvailableFunds | 完整的可用资金 |\n",
    "| FullExcessLiquidity | 完整的超额流动性 |\n",
    "| LookAheadNextChange | 向前看下一个变化 |\n",
    "| LookAheadInitMarginReq | 向前看初始保证金要求 |\n",
    "| LookAheadMaintMarginReq | 向前看维持保证金要求 |\n",
    "| LookAheadAvailableFunds | 向前看可用资金 |\n",
    "| LookAheadExcessLiquidity | 向前看超额流动性 |\n",
    "| HighestSeverity | 最高严重程度 |\n",
    "| DayTradesRemaining | 剩余的日内交易 |\n",
    "| Leverage | 杠杆 |\n",
    "| $LEDGER | $分类账 |\n",
    "| $LEDGER:CURRENCY | $分类账:货币 |\n",
    "| $LEDGER:ALL | $分类账:全部 |"
   ]
  },
  {
   "cell_type": "markdown",
   "metadata": {
    "collapsed": false,
    "pycharm": {
     "name": "#%% md\n"
    }
   },
   "source": [
    "## Receiving Account Summary\n",
    "\n",
    "EWrapper.accountSummary \n",
    "* reqId: int. 请求的唯一标识符。\n",
    "* account: String. 账户编号。\n",
    "* tag: String. 正在接收的账户属性。\n",
    "* value: String. 账户属性的值。\n",
    "* currency: String. 表达值的货币。\n",
    "\n",
    "\n",
    "```python\n",
    "def accountSummary(feedback: list, reqId: int, account: str, tag: str, value: str,currency: str):\n",
    "    feedback.append({\n",
    "        \"method\": \"accountSummary\",\n",
    "        \"reqId\": reqId, \n",
    "        \"account\": account, \n",
    "        \"tag\": tag, \n",
    "        \"value\": value, \n",
    "        \"currency\": currency})\n",
    "```\n",
    "\n",
    "----\n",
    "\n",
    "EWrapper.accountSummaryEnd\n",
    "* reqId: int. 请求的唯一标识符。\n",
    "\n",
    "当请求的数据已被完全接收时，将调用 accountSummaryEnd()。此方法将始终在 accountSummary() 方法之后调用。\n",
    "\n",
    "```python\n",
    "def accountSummaryEnd(feedback: list, reqId: int):\n",
    "    feedback.append({\n",
    "        \"method\": \"accountSummaryEnd\",\n",
    "        \"reqId\": reqId})\n",
    "```"
   ]
  },
  {
   "cell_type": "markdown",
   "metadata": {},
   "source": [
    "## Canceling Account Summary\n",
    "\n",
    "一旦不再需要订阅账户概要，可以通过 IBApi::EClient::cancelAccountSummary 方法来取消订阅\n",
    "\n",
    "EClient.cancelAccountSummary \n",
    "* reqId: int. 请求的唯一标识符，该标识符应该与请求概要时使用的标识符相同。\n",
    "\n",
    "```python\n",
    "EClient.cancelAccountSummary(9001)\n",
    "```"
   ]
  },
  {
   "cell_type": "markdown",
   "metadata": {},
   "source": [
    "# Implementing the EWrapper Interface"
   ]
  },
  {
   "cell_type": "code",
   "execution_count": null,
   "metadata": {},
   "outputs": [],
   "source": [
    "from ibapi.wrapper import EWrapper\n",
    "from ibapi.client import EClient\n",
    "\n",
    "# TwsApp for interacting with TWS API\n",
    "class TwsApp(EWrapper, EClient):\n",
    "    def __init__(self):\n",
    "        EClient.__init__(self, self)\n",
    "        self.nextOrderId = None\n",
    "        self.feedback = []\n",
    "\n",
    "    def error(self, reqId, errorCode, errorString, advancedOrderRejectJson=None):\n",
    "        print(\"Error: \", reqId, \" \", errorCode, \" \", errorString, \" \", advancedOrderRejectJson)\n",
    "\n",
    "    def cleanup(self):\n",
    "        self.feedback = []\n",
    "\n",
    "    def accountSummary(self, reqId: int, account: str, tag: str, value: str,currency: str):\n",
    "        self.feedback.append({\n",
    "            \"method\": \"accountSummary\",\n",
    "            \"reqId\": reqId, \n",
    "            \"account\": account, \n",
    "            \"tag\": tag, \n",
    "            \"value\": value, \n",
    "            \"currency\": currency}) \n",
    "            \n",
    "    def accountSummaryEnd(self, reqId: int):\n",
    "        self.feedback.append({\n",
    "            \"method\": \"accountSummaryEnd\",\n",
    "            \"reqId\": reqId})"
   ]
  }
 ],
 "metadata": {
  "kernelspec": {
   "display_name": "Python 3",
   "language": "python",
   "name": "python3"
  },
  "language_info": {
   "codemirror_mode": {
    "name": "ipython",
    "version": 2
   },
   "file_extension": ".py",
   "mimetype": "text/x-python",
   "name": "python",
   "nbconvert_exporter": "python",
   "pygments_lexer": "ipython2",
   "version": "2.7.6"
  }
 },
 "nbformat": 4,
 "nbformat_minor": 0
}
