{
 "cells": [
  {
   "cell_type": "markdown",
   "metadata": {},
   "source": [
    "# Managed Accounts\n",
    "\n",
    "\n",
    "一个用户名可以处理多个账户。如在连接部分提到的，一旦连接建立，TWS（交易工作站）将自动发送一个被管理账户的列表。这个列表也可以通过 `IBApi.EClient.reqManagedAccts` 方法获取。\n",
    "\n",
    "## Request Managed Accounts\n",
    "\n",
    "EClient.reqManagedAccts()\n",
    "请求登录用户有权访问的帐户。\n",
    "\n",
    "```python\n",
    "    self.reqManagedAccts()\n",
    "```\n",
    "\n",
    "## Receive Managed Accounts\n",
    "\n",
    "EWrapper.managedAccounts \n",
    "* @param **accountsList**, string, 以逗号分隔的账户列表\n",
    "\n",
    "```python\n",
    "    def managedAccounts(self, accountsList: str):\n",
    "        print(\"Account list:\", accountsList)\n",
    "```\n"
   ]
  }
 ],
 "metadata": {
  "language_info": {
   "name": "python"
  }
 },
 "nbformat": 4,
 "nbformat_minor": 2
}
