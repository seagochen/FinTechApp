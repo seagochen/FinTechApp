{
 "cells": [
  {
   "cell_type": "markdown",
   "metadata": {},
   "source": [
    "# Family Codes\n",
    "\n",
    "通过 API 可以确定一个账户是否属于某个账户家族，并且可以使用 reqFamilyCodes 函数来找到该家族的代码。\n",
    "\n",
    "例如，如果个人账户 U112233 属于账号为 F445566 的财务顾问下，当为账户 U112233 的用户调用 reqFamilyCodes 函数时，将返回家族代码 “F445566A”，这表明它属于那个账户家族。这个功能对于理解和管理属于财务顾问管理下的多个账户的组织结构非常有用。\n",
    "\n",
    "## Request Family Codes\n",
    "\n",
    "```python\n",
    "EClient.reqFamilyCodes()\n",
    "```\n",
    "\n",
    "当需要请求一个账户的家族代码，例如判断它是否是财务顾问（FA）账户、IBroker账户，或者是相关联的账户时，可以使用特定的 API 函数。这个函数通常被设计用来识别账户的类型和它在更大的组织结构中的位置，这对于管理和监控多账户系统尤为重要。\n",
    "\n",
    "例如，在交互式经纪人（Interactive Brokers, IB）的 API 中，这个功能可能是通过调用 reqFamilyCodes 函数实现的。当这个函数被调用时，它会返回与请求的账户相关的所有家族代码。这些家族代码有助于识别账户是独立账户、属于某个财务顾问的一部分，或者是IBroker系统中的其他类型账户。通过这些信息，用户或开发者可以更好地理解和管理他们的投资组合。"
   ]
  }
 ],
 "metadata": {
  "language_info": {
   "name": "python"
  }
 },
 "nbformat": 4,
 "nbformat_minor": 2
}
